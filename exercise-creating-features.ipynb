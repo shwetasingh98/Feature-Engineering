{
 "cells": [
  {
   "cell_type": "markdown",
   "id": "b9d44876",
   "metadata": {
    "papermill": {
     "duration": 0.007465,
     "end_time": "2022-10-16T17:21:11.334313",
     "exception": false,
     "start_time": "2022-10-16T17:21:11.326848",
     "status": "completed"
    },
    "tags": []
   },
   "source": [
    "**This notebook is an exercise in the [Feature Engineering](https://www.kaggle.com/learn/feature-engineering) course.  You can reference the tutorial at [this link](https://www.kaggle.com/ryanholbrook/creating-features).**\n",
    "\n",
    "---\n"
   ]
  },
  {
   "cell_type": "markdown",
   "id": "1a5c67d2",
   "metadata": {
    "papermill": {
     "duration": 0.005736,
     "end_time": "2022-10-16T17:21:11.346906",
     "exception": false,
     "start_time": "2022-10-16T17:21:11.341170",
     "status": "completed"
    },
    "tags": []
   },
   "source": [
    "# Introduction #\n",
    "\n",
    "In this exercise you'll start developing the features you identified in Exercise 2 as having the most potential. As you work through this exercise, you might take a moment to look at the data documentation again and consider whether the features we're creating make sense from a real-world perspective, and whether there are any useful combinations that stand out to you.\n",
    "\n",
    "Run this cell to set everything up!"
   ]
  },
  {
   "cell_type": "code",
   "execution_count": 1,
   "id": "a189f315",
   "metadata": {
    "execution": {
     "iopub.execute_input": "2022-10-16T17:21:11.361891Z",
     "iopub.status.busy": "2022-10-16T17:21:11.360911Z",
     "iopub.status.idle": "2022-10-16T17:21:12.876770Z",
     "shell.execute_reply": "2022-10-16T17:21:12.875635Z"
    },
    "papermill": {
     "duration": 1.526654,
     "end_time": "2022-10-16T17:21:12.879629",
     "exception": false,
     "start_time": "2022-10-16T17:21:11.352975",
     "status": "completed"
    },
    "tags": []
   },
   "outputs": [],
   "source": [
    "# Setup feedback system\n",
    "from learntools.core import binder\n",
    "binder.bind(globals())\n",
    "from learntools.feature_engineering_new.ex3 import *\n",
    "\n",
    "import numpy as np\n",
    "import pandas as pd\n",
    "from sklearn.model_selection import cross_val_score\n",
    "from xgboost import XGBRegressor\n",
    "\n",
    "\n",
    "def score_dataset(X, y, model=XGBRegressor()):\n",
    "    # Label encoding for categoricals\n",
    "    for colname in X.select_dtypes([\"category\", \"object\"]):\n",
    "        X[colname], _ = X[colname].factorize()\n",
    "    # Metric for Housing competition is RMSLE (Root Mean Squared Log Error)\n",
    "    score = cross_val_score(\n",
    "        model, X, y, cv=5, scoring=\"neg_mean_squared_log_error\",\n",
    "    )\n",
    "    score = -1 * score.mean()\n",
    "    score = np.sqrt(score)\n",
    "    return score\n",
    "\n",
    "\n",
    "# Prepare data\n",
    "df = pd.read_csv(\"../input/fe-course-data/ames.csv\")\n",
    "X = df.copy()\n",
    "y = X.pop(\"SalePrice\")"
   ]
  },
  {
   "cell_type": "markdown",
   "id": "bf43db4e",
   "metadata": {
    "papermill": {
     "duration": 0.005863,
     "end_time": "2022-10-16T17:21:12.891669",
     "exception": false,
     "start_time": "2022-10-16T17:21:12.885806",
     "status": "completed"
    },
    "tags": []
   },
   "source": [
    "-------------------------------------------------------------------------------\n",
    "\n",
    "Let's start with a few mathematical combinations. We'll focus on features describing areas -- having the same units (square-feet) makes it easy to combine them in sensible ways. Since we're using XGBoost (a tree-based model), we'll focus on ratios and sums.\n",
    "\n",
    "# 1) Create Mathematical Transforms\n",
    "\n",
    "Create the following features:\n",
    "\n",
    "- `LivLotRatio`: the ratio of `GrLivArea` to `LotArea`\n",
    "- `Spaciousness`: the sum of `FirstFlrSF` and `SecondFlrSF` divided by `TotRmsAbvGrd`\n",
    "- `TotalOutsideSF`: the sum of `WoodDeckSF`, `OpenPorchSF`, `EnclosedPorch`, `Threeseasonporch`, and `ScreenPorch`"
   ]
  },
  {
   "cell_type": "code",
   "execution_count": 2,
   "id": "67fefb3b",
   "metadata": {
    "execution": {
     "iopub.execute_input": "2022-10-16T17:21:12.905551Z",
     "iopub.status.busy": "2022-10-16T17:21:12.905143Z",
     "iopub.status.idle": "2022-10-16T17:21:12.934246Z",
     "shell.execute_reply": "2022-10-16T17:21:12.932894Z"
    },
    "lines_to_next_cell": 0,
    "papermill": {
     "duration": 0.040152,
     "end_time": "2022-10-16T17:21:12.937924",
     "exception": false,
     "start_time": "2022-10-16T17:21:12.897772",
     "status": "completed"
    },
    "tags": []
   },
   "outputs": [
    {
     "data": {
      "application/javascript": [
       "parent.postMessage({\"jupyterEvent\": \"custom.exercise_interaction\", \"data\": {\"outcomeType\": 1, \"valueTowardsCompletion\": 0.2, \"interactionType\": 1, \"questionType\": 2, \"questionId\": \"1_Q1\", \"learnToolsVersion\": \"0.3.4\", \"failureMessage\": \"\", \"exceptionClass\": \"\", \"trace\": \"\"}}, \"*\")"
      ],
      "text/plain": [
       "<IPython.core.display.Javascript object>"
      ]
     },
     "metadata": {},
     "output_type": "display_data"
    },
    {
     "data": {
      "text/markdown": [
       "<span style=\"color:#33cc33\">Correct</span>"
      ],
      "text/plain": [
       "Correct"
      ]
     },
     "metadata": {},
     "output_type": "display_data"
    }
   ],
   "source": [
    "# YOUR CODE HERE\n",
    "X_1 = pd.DataFrame()  # dataframe to hold new features\n",
    "\n",
    "X_1[\"LivLotRatio\"] = df.GrLivArea/df.LotArea\n",
    "X_1[\"Spaciousness\"] = (df.FirstFlrSF+df.SecondFlrSF)/df.TotRmsAbvGrd\n",
    "X_1[\"TotalOutsideSF\"] = df.WoodDeckSF+df.OpenPorchSF+df.EnclosedPorch+df.Threeseasonporch+df.ScreenPorch\n",
    "\n",
    "\n",
    "# Check your answer\n",
    "q_1.check()"
   ]
  },
  {
   "cell_type": "code",
   "execution_count": 3,
   "id": "58778802",
   "metadata": {
    "execution": {
     "iopub.execute_input": "2022-10-16T17:21:12.952641Z",
     "iopub.status.busy": "2022-10-16T17:21:12.952231Z",
     "iopub.status.idle": "2022-10-16T17:21:12.958048Z",
     "shell.execute_reply": "2022-10-16T17:21:12.956583Z"
    },
    "lines_to_next_cell": 0,
    "papermill": {
     "duration": 0.016041,
     "end_time": "2022-10-16T17:21:12.960622",
     "exception": false,
     "start_time": "2022-10-16T17:21:12.944581",
     "status": "completed"
    },
    "tags": []
   },
   "outputs": [],
   "source": [
    "# Lines below will give you a hint or solution code\n",
    "#q_1.hint()\n",
    "#q_1.solution()"
   ]
  },
  {
   "cell_type": "markdown",
   "id": "e1f43c5c",
   "metadata": {
    "papermill": {
     "duration": 0.006266,
     "end_time": "2022-10-16T17:21:12.973473",
     "exception": false,
     "start_time": "2022-10-16T17:21:12.967207",
     "status": "completed"
    },
    "tags": []
   },
   "source": [
    "-------------------------------------------------------------------------------\n",
    "\n",
    "If you've discovered an interaction effect between a numeric feature and a categorical feature, you might want to model it explicitly using a one-hot encoding, like so:\n",
    "\n",
    "```\n",
    "# One-hot encode Categorical feature, adding a column prefix \"Cat\"\n",
    "X_new = pd.get_dummies(df.Categorical, prefix=\"Cat\")\n",
    "\n",
    "# Multiply row-by-row\n",
    "X_new = X_new.mul(df.Continuous, axis=0)\n",
    "\n",
    "# Join the new features to the feature set\n",
    "X = X.join(X_new)\n",
    "```\n",
    "\n",
    "# 2) Interaction with a Categorical\n",
    "\n",
    "We discovered an interaction between `BldgType` and `GrLivArea` in Exercise 2. Now create their interaction features."
   ]
  },
  {
   "cell_type": "code",
   "execution_count": 4,
   "id": "11596e67",
   "metadata": {
    "execution": {
     "iopub.execute_input": "2022-10-16T17:21:12.988842Z",
     "iopub.status.busy": "2022-10-16T17:21:12.987897Z",
     "iopub.status.idle": "2022-10-16T17:21:12.996482Z",
     "shell.execute_reply": "2022-10-16T17:21:12.995604Z"
    },
    "papermill": {
     "duration": 0.018479,
     "end_time": "2022-10-16T17:21:12.998565",
     "exception": false,
     "start_time": "2022-10-16T17:21:12.980086",
     "status": "completed"
    },
    "tags": []
   },
   "outputs": [
    {
     "data": {
      "text/plain": [
       "0    OneFam\n",
       "1    OneFam\n",
       "2    OneFam\n",
       "3    OneFam\n",
       "4    OneFam\n",
       "Name: BldgType, dtype: object"
      ]
     },
     "execution_count": 4,
     "metadata": {},
     "output_type": "execute_result"
    }
   ],
   "source": [
    "X.BldgType.head()"
   ]
  },
  {
   "cell_type": "code",
   "execution_count": 5,
   "id": "3e826af5",
   "metadata": {
    "execution": {
     "iopub.execute_input": "2022-10-16T17:21:13.013144Z",
     "iopub.status.busy": "2022-10-16T17:21:13.012717Z",
     "iopub.status.idle": "2022-10-16T17:21:13.026843Z",
     "shell.execute_reply": "2022-10-16T17:21:13.025952Z"
    },
    "lines_to_next_cell": 0,
    "papermill": {
     "duration": 0.024096,
     "end_time": "2022-10-16T17:21:13.029192",
     "exception": false,
     "start_time": "2022-10-16T17:21:13.005096",
     "status": "completed"
    },
    "tags": []
   },
   "outputs": [
    {
     "data": {
      "application/javascript": [
       "parent.postMessage({\"jupyterEvent\": \"custom.exercise_interaction\", \"data\": {\"outcomeType\": 1, \"valueTowardsCompletion\": 0.2, \"interactionType\": 1, \"questionType\": 2, \"questionId\": \"2_Q2\", \"learnToolsVersion\": \"0.3.4\", \"failureMessage\": \"\", \"exceptionClass\": \"\", \"trace\": \"\"}}, \"*\")"
      ],
      "text/plain": [
       "<IPython.core.display.Javascript object>"
      ]
     },
     "metadata": {},
     "output_type": "display_data"
    },
    {
     "data": {
      "text/markdown": [
       "<span style=\"color:#33cc33\">Correct</span>"
      ],
      "text/plain": [
       "Correct"
      ]
     },
     "metadata": {},
     "output_type": "display_data"
    }
   ],
   "source": [
    "# YOUR CODE HERE\n",
    "# One-hot encode BldgType. Use `prefix=\"Bldg\"` in `get_dummies`\n",
    "X_2 =pd.get_dummies(X.BldgType,prefix=\"Bldg\")\n",
    "X_2 \n",
    "# Multiply\n",
    "X_2 =X_2.mul(X.GrLivArea, axis=0)\n",
    "X_2 \n",
    "\n",
    "\n",
    "# Check your answer\n",
    "q_2.check()"
   ]
  },
  {
   "cell_type": "code",
   "execution_count": 6,
   "id": "90903ad7",
   "metadata": {
    "execution": {
     "iopub.execute_input": "2022-10-16T17:21:13.045200Z",
     "iopub.status.busy": "2022-10-16T17:21:13.044453Z",
     "iopub.status.idle": "2022-10-16T17:21:13.048541Z",
     "shell.execute_reply": "2022-10-16T17:21:13.047505Z"
    },
    "lines_to_next_cell": 0,
    "papermill": {
     "duration": 0.01501,
     "end_time": "2022-10-16T17:21:13.050952",
     "exception": false,
     "start_time": "2022-10-16T17:21:13.035942",
     "status": "completed"
    },
    "tags": []
   },
   "outputs": [],
   "source": [
    "# Lines below will give you a hint or solution code\n",
    "#q_2.hint()\n",
    "#q_2.solution()"
   ]
  },
  {
   "cell_type": "markdown",
   "id": "391a4dd4",
   "metadata": {
    "lines_to_next_cell": 0,
    "papermill": {
     "duration": 0.006506,
     "end_time": "2022-10-16T17:21:13.064606",
     "exception": false,
     "start_time": "2022-10-16T17:21:13.058100",
     "status": "completed"
    },
    "tags": []
   },
   "source": [
    "# 3) Count Feature\n",
    "\n",
    "Let's try creating a feature that describes how many kinds of outdoor areas a dwelling has. Create a feature `PorchTypes` that counts how many of the following are greater than 0.0:\n",
    "\n",
    "```\n",
    "WoodDeckSF\n",
    "OpenPorchSF\n",
    "EnclosedPorch\n",
    "Threeseasonporch\n",
    "ScreenPorch\n",
    "```"
   ]
  },
  {
   "cell_type": "code",
   "execution_count": 7,
   "id": "8ee8a9da",
   "metadata": {
    "execution": {
     "iopub.execute_input": "2022-10-16T17:21:13.081084Z",
     "iopub.status.busy": "2022-10-16T17:21:13.080615Z",
     "iopub.status.idle": "2022-10-16T17:21:13.088835Z",
     "shell.execute_reply": "2022-10-16T17:21:13.087494Z"
    },
    "papermill": {
     "duration": 0.019913,
     "end_time": "2022-10-16T17:21:13.091109",
     "exception": false,
     "start_time": "2022-10-16T17:21:13.071196",
     "status": "completed"
    },
    "tags": []
   },
   "outputs": [
    {
     "data": {
      "text/plain": [
       "Index(['MSSubClass', 'MSZoning', 'LotFrontage', 'LotArea', 'Street', 'Alley',\n",
       "       'LotShape', 'LandContour', 'Utilities', 'LotConfig', 'LandSlope',\n",
       "       'Neighborhood', 'Condition1', 'Condition2', 'BldgType', 'HouseStyle',\n",
       "       'OverallQual', 'OverallCond', 'YearBuilt', 'YearRemodAdd', 'RoofStyle',\n",
       "       'RoofMatl', 'Exterior1st', 'Exterior2nd', 'MasVnrType', 'MasVnrArea',\n",
       "       'ExterQual', 'ExterCond', 'Foundation', 'BsmtQual', 'BsmtCond',\n",
       "       'BsmtExposure', 'BsmtFinType1', 'BsmtFinSF1', 'BsmtFinType2',\n",
       "       'BsmtFinSF2', 'BsmtUnfSF', 'TotalBsmtSF', 'Heating', 'HeatingQC',\n",
       "       'CentralAir', 'Electrical', 'FirstFlrSF', 'SecondFlrSF', 'LowQualFinSF',\n",
       "       'GrLivArea', 'BsmtFullBath', 'BsmtHalfBath', 'FullBath', 'HalfBath',\n",
       "       'BedroomAbvGr', 'KitchenAbvGr', 'KitchenQual', 'TotRmsAbvGrd',\n",
       "       'Functional', 'Fireplaces', 'FireplaceQu', 'GarageType', 'GarageFinish',\n",
       "       'GarageCars', 'GarageArea', 'GarageQual', 'GarageCond', 'PavedDrive',\n",
       "       'WoodDeckSF', 'OpenPorchSF', 'EnclosedPorch', 'Threeseasonporch',\n",
       "       'ScreenPorch', 'PoolArea', 'PoolQC', 'Fence', 'MiscFeature', 'MiscVal',\n",
       "       'MoSold', 'YearSold', 'SaleType', 'SaleCondition'],\n",
       "      dtype='object')"
      ]
     },
     "execution_count": 7,
     "metadata": {},
     "output_type": "execute_result"
    }
   ],
   "source": [
    "X.columns"
   ]
  },
  {
   "cell_type": "code",
   "execution_count": 8,
   "id": "5a95bbeb",
   "metadata": {
    "execution": {
     "iopub.execute_input": "2022-10-16T17:21:13.106981Z",
     "iopub.status.busy": "2022-10-16T17:21:13.106207Z",
     "iopub.status.idle": "2022-10-16T17:21:13.129977Z",
     "shell.execute_reply": "2022-10-16T17:21:13.128837Z"
    },
    "lines_to_next_cell": 0,
    "papermill": {
     "duration": 0.034592,
     "end_time": "2022-10-16T17:21:13.132494",
     "exception": false,
     "start_time": "2022-10-16T17:21:13.097902",
     "status": "completed"
    },
    "tags": []
   },
   "outputs": [
    {
     "data": {
      "application/javascript": [
       "parent.postMessage({\"jupyterEvent\": \"custom.exercise_interaction\", \"data\": {\"outcomeType\": 1, \"valueTowardsCompletion\": 0.2, \"interactionType\": 1, \"questionType\": 2, \"questionId\": \"3_Q3\", \"learnToolsVersion\": \"0.3.4\", \"failureMessage\": \"\", \"exceptionClass\": \"\", \"trace\": \"\"}}, \"*\")"
      ],
      "text/plain": [
       "<IPython.core.display.Javascript object>"
      ]
     },
     "metadata": {},
     "output_type": "display_data"
    },
    {
     "data": {
      "text/markdown": [
       "<span style=\"color:#33cc33\">Correct</span>"
      ],
      "text/plain": [
       "Correct"
      ]
     },
     "metadata": {},
     "output_type": "display_data"
    }
   ],
   "source": [
    "X_3 = pd.DataFrame()\n",
    "\n",
    "# YOUR CODE HERE\n",
    "porch_types = ['WoodDeckSF', 'OpenPorchSF', 'EnclosedPorch', 'Threeseasonporch', 'ScreenPorch']\n",
    "X_3[\"PorchTypes\"] = X[porch_types].gt(0.0).sum(axis=1)\n",
    "\n",
    "\n",
    "\n",
    "# Check your answer\n",
    "q_3.check()"
   ]
  },
  {
   "cell_type": "code",
   "execution_count": 9,
   "id": "2fc40331",
   "metadata": {
    "execution": {
     "iopub.execute_input": "2022-10-16T17:21:13.148731Z",
     "iopub.status.busy": "2022-10-16T17:21:13.147908Z",
     "iopub.status.idle": "2022-10-16T17:21:13.152780Z",
     "shell.execute_reply": "2022-10-16T17:21:13.151810Z"
    },
    "lines_to_next_cell": 0,
    "papermill": {
     "duration": 0.015803,
     "end_time": "2022-10-16T17:21:13.155217",
     "exception": false,
     "start_time": "2022-10-16T17:21:13.139414",
     "status": "completed"
    },
    "tags": []
   },
   "outputs": [],
   "source": [
    "# Lines below will give you a hint or solution code\n",
    "#q_3.hint()\n",
    "#q_3.solution()"
   ]
  },
  {
   "cell_type": "markdown",
   "id": "3fee1a09",
   "metadata": {
    "papermill": {
     "duration": 0.007259,
     "end_time": "2022-10-16T17:21:13.169638",
     "exception": false,
     "start_time": "2022-10-16T17:21:13.162379",
     "status": "completed"
    },
    "tags": []
   },
   "source": [
    "# 4) Break Down a Categorical Feature\n",
    "\n",
    "`MSSubClass` describes the type of a dwelling:"
   ]
  },
  {
   "cell_type": "code",
   "execution_count": 10,
   "id": "b14a94d2",
   "metadata": {
    "execution": {
     "iopub.execute_input": "2022-10-16T17:21:13.186368Z",
     "iopub.status.busy": "2022-10-16T17:21:13.185544Z",
     "iopub.status.idle": "2022-10-16T17:21:13.193770Z",
     "shell.execute_reply": "2022-10-16T17:21:13.192770Z"
    },
    "papermill": {
     "duration": 0.019395,
     "end_time": "2022-10-16T17:21:13.196208",
     "exception": false,
     "start_time": "2022-10-16T17:21:13.176813",
     "status": "completed"
    },
    "tags": []
   },
   "outputs": [
    {
     "data": {
      "text/plain": [
       "array(['One_Story_1946_and_Newer_All_Styles', 'Two_Story_1946_and_Newer',\n",
       "       'One_Story_PUD_1946_and_Newer',\n",
       "       'One_and_Half_Story_Finished_All_Ages', 'Split_Foyer',\n",
       "       'Two_Story_PUD_1946_and_Newer', 'Split_or_Multilevel',\n",
       "       'One_Story_1945_and_Older', 'Duplex_All_Styles_and_Ages',\n",
       "       'Two_Family_conversion_All_Styles_and_Ages',\n",
       "       'One_and_Half_Story_Unfinished_All_Ages',\n",
       "       'Two_Story_1945_and_Older', 'Two_and_Half_Story_All_Ages',\n",
       "       'One_Story_with_Finished_Attic_All_Ages',\n",
       "       'PUD_Multilevel_Split_Level_Foyer',\n",
       "       'One_and_Half_Story_PUD_All_Ages'], dtype=object)"
      ]
     },
     "execution_count": 10,
     "metadata": {},
     "output_type": "execute_result"
    }
   ],
   "source": [
    "df.MSSubClass.unique()"
   ]
  },
  {
   "cell_type": "markdown",
   "id": "73fba8d3",
   "metadata": {
    "papermill": {
     "duration": 0.006867,
     "end_time": "2022-10-16T17:21:13.210318",
     "exception": false,
     "start_time": "2022-10-16T17:21:13.203451",
     "status": "completed"
    },
    "tags": []
   },
   "source": [
    "You can see that there is a more general categorization described (roughly) by the first word of each category. Create a feature containing only these first words by splitting `MSSubClass` at the first underscore `_`. (Hint: In the `split` method use an argument `n=1`.)"
   ]
  },
  {
   "cell_type": "code",
   "execution_count": 11,
   "id": "7a6badf8",
   "metadata": {
    "execution": {
     "iopub.execute_input": "2022-10-16T17:21:13.226632Z",
     "iopub.status.busy": "2022-10-16T17:21:13.226206Z",
     "iopub.status.idle": "2022-10-16T17:21:13.252531Z",
     "shell.execute_reply": "2022-10-16T17:21:13.251673Z"
    },
    "lines_to_next_cell": 0,
    "papermill": {
     "duration": 0.03734,
     "end_time": "2022-10-16T17:21:13.254855",
     "exception": false,
     "start_time": "2022-10-16T17:21:13.217515",
     "status": "completed"
    },
    "tags": []
   },
   "outputs": [
    {
     "data": {
      "application/javascript": [
       "parent.postMessage({\"jupyterEvent\": \"custom.exercise_interaction\", \"data\": {\"outcomeType\": 1, \"valueTowardsCompletion\": 0.2, \"interactionType\": 1, \"questionType\": 2, \"questionId\": \"4_Q4\", \"learnToolsVersion\": \"0.3.4\", \"failureMessage\": \"\", \"exceptionClass\": \"\", \"trace\": \"\"}}, \"*\")"
      ],
      "text/plain": [
       "<IPython.core.display.Javascript object>"
      ]
     },
     "metadata": {},
     "output_type": "display_data"
    },
    {
     "data": {
      "text/markdown": [
       "<span style=\"color:#33cc33\">Correct</span>"
      ],
      "text/plain": [
       "Correct"
      ]
     },
     "metadata": {},
     "output_type": "display_data"
    }
   ],
   "source": [
    "X_4 = pd.DataFrame()\n",
    "\n",
    "# YOUR CODE HERE\n",
    "X_4['MSClass']=X['MSSubClass'].str.split(\"_\",n=1,expand=True)[0]\n",
    "\n",
    "# Check your answer\n",
    "q_4.check()"
   ]
  },
  {
   "cell_type": "code",
   "execution_count": 12,
   "id": "fd9d28f8",
   "metadata": {
    "execution": {
     "iopub.execute_input": "2022-10-16T17:21:13.272170Z",
     "iopub.status.busy": "2022-10-16T17:21:13.270890Z",
     "iopub.status.idle": "2022-10-16T17:21:13.276168Z",
     "shell.execute_reply": "2022-10-16T17:21:13.275012Z"
    },
    "lines_to_next_cell": 0,
    "papermill": {
     "duration": 0.016498,
     "end_time": "2022-10-16T17:21:13.278724",
     "exception": false,
     "start_time": "2022-10-16T17:21:13.262226",
     "status": "completed"
    },
    "tags": []
   },
   "outputs": [],
   "source": [
    "# Lines below will give you a hint or solution code\n",
    "#q_4.hint()\n",
    "#q_4.solution()"
   ]
  },
  {
   "cell_type": "markdown",
   "id": "0a043b2b",
   "metadata": {
    "papermill": {
     "duration": 0.007135,
     "end_time": "2022-10-16T17:21:13.293361",
     "exception": false,
     "start_time": "2022-10-16T17:21:13.286226",
     "status": "completed"
    },
    "tags": []
   },
   "source": [
    "# 5) Use a Grouped Transform\n",
    "\n",
    "The value of a home often depends on how it compares to typical homes in its neighborhood. Create a feature `MedNhbdArea` that describes the *median* of `GrLivArea` grouped on `Neighborhood`."
   ]
  },
  {
   "cell_type": "code",
   "execution_count": 13,
   "id": "59b77fde",
   "metadata": {
    "execution": {
     "iopub.execute_input": "2022-10-16T17:21:13.309648Z",
     "iopub.status.busy": "2022-10-16T17:21:13.309208Z",
     "iopub.status.idle": "2022-10-16T17:21:13.329555Z",
     "shell.execute_reply": "2022-10-16T17:21:13.328177Z"
    },
    "lines_to_next_cell": 0,
    "papermill": {
     "duration": 0.03131,
     "end_time": "2022-10-16T17:21:13.331958",
     "exception": false,
     "start_time": "2022-10-16T17:21:13.300648",
     "status": "completed"
    },
    "tags": []
   },
   "outputs": [
    {
     "data": {
      "application/javascript": [
       "parent.postMessage({\"jupyterEvent\": \"custom.exercise_interaction\", \"data\": {\"outcomeType\": 1, \"valueTowardsCompletion\": 0.2, \"interactionType\": 1, \"questionType\": 2, \"questionId\": \"5_Q5\", \"learnToolsVersion\": \"0.3.4\", \"failureMessage\": \"\", \"exceptionClass\": \"\", \"trace\": \"\"}}, \"*\")"
      ],
      "text/plain": [
       "<IPython.core.display.Javascript object>"
      ]
     },
     "metadata": {},
     "output_type": "display_data"
    },
    {
     "data": {
      "text/markdown": [
       "<span style=\"color:#33cc33\">Correct</span>"
      ],
      "text/plain": [
       "Correct"
      ]
     },
     "metadata": {},
     "output_type": "display_data"
    }
   ],
   "source": [
    "X_5 = pd.DataFrame()\n",
    "\n",
    "# YOUR CODE HERE\n",
    "X_5[\"MedNhbdArea\"] =X.groupby('Neighborhood')['GrLivArea'].transform(\"median\")\n",
    "\n",
    "# Check your answer\n",
    "q_5.check()"
   ]
  },
  {
   "cell_type": "code",
   "execution_count": 14,
   "id": "4e4fd141",
   "metadata": {
    "execution": {
     "iopub.execute_input": "2022-10-16T17:21:13.349675Z",
     "iopub.status.busy": "2022-10-16T17:21:13.348854Z",
     "iopub.status.idle": "2022-10-16T17:21:13.353975Z",
     "shell.execute_reply": "2022-10-16T17:21:13.352630Z"
    },
    "lines_to_next_cell": 0,
    "papermill": {
     "duration": 0.016633,
     "end_time": "2022-10-16T17:21:13.356255",
     "exception": false,
     "start_time": "2022-10-16T17:21:13.339622",
     "status": "completed"
    },
    "tags": []
   },
   "outputs": [],
   "source": [
    "# Lines below will give you a hint or solution code\n",
    "#q_5.hint()\n",
    "#q_5.solution()"
   ]
  },
  {
   "cell_type": "markdown",
   "id": "41ee2391",
   "metadata": {
    "papermill": {
     "duration": 0.007302,
     "end_time": "2022-10-16T17:21:13.371072",
     "exception": false,
     "start_time": "2022-10-16T17:21:13.363770",
     "status": "completed"
    },
    "tags": []
   },
   "source": [
    "Now you've made your first new feature set! If you like, you can run the cell below to score the model with all of your new features added:"
   ]
  },
  {
   "cell_type": "code",
   "execution_count": 15,
   "id": "1d7314b2",
   "metadata": {
    "execution": {
     "iopub.execute_input": "2022-10-16T17:21:13.388679Z",
     "iopub.status.busy": "2022-10-16T17:21:13.387791Z",
     "iopub.status.idle": "2022-10-16T17:21:19.208497Z",
     "shell.execute_reply": "2022-10-16T17:21:19.207465Z"
    },
    "papermill": {
     "duration": 5.832644,
     "end_time": "2022-10-16T17:21:19.211393",
     "exception": false,
     "start_time": "2022-10-16T17:21:13.378749",
     "status": "completed"
    },
    "tags": []
   },
   "outputs": [
    {
     "data": {
      "text/plain": [
       "0.13847331710099203"
      ]
     },
     "execution_count": 15,
     "metadata": {},
     "output_type": "execute_result"
    }
   ],
   "source": [
    "X_new = X.join([X_1, X_2, X_3, X_4, X_5])\n",
    "score_dataset(X_new, y)"
   ]
  },
  {
   "cell_type": "markdown",
   "id": "f01b028b",
   "metadata": {
    "papermill": {
     "duration": 0.007366,
     "end_time": "2022-10-16T17:21:19.228260",
     "exception": false,
     "start_time": "2022-10-16T17:21:19.220894",
     "status": "completed"
    },
    "tags": []
   },
   "source": [
    "# Keep Going #\n",
    "\n",
    "[**Untangle spatial relationships**](https://www.kaggle.com/ryanholbrook/clustering-with-k-means) by adding cluster labels to your dataset."
   ]
  },
  {
   "cell_type": "markdown",
   "id": "9d0460b7",
   "metadata": {
    "papermill": {
     "duration": 0.007359,
     "end_time": "2022-10-16T17:21:19.243777",
     "exception": false,
     "start_time": "2022-10-16T17:21:19.236418",
     "status": "completed"
    },
    "tags": []
   },
   "source": [
    "---\n",
    "\n",
    "\n",
    "\n",
    "\n",
    "*Have questions or comments? Visit the [course discussion forum](https://www.kaggle.com/learn/feature-engineering/discussion) to chat with other learners.*"
   ]
  }
 ],
 "metadata": {
  "kernelspec": {
   "display_name": "Python 3",
   "language": "python",
   "name": "python3"
  },
  "language_info": {
   "codemirror_mode": {
    "name": "ipython",
    "version": 3
   },
   "file_extension": ".py",
   "mimetype": "text/x-python",
   "name": "python",
   "nbconvert_exporter": "python",
   "pygments_lexer": "ipython3",
   "version": "3.7.12"
  },
  "papermill": {
   "default_parameters": {},
   "duration": 18.178651,
   "end_time": "2022-10-16T17:21:20.074884",
   "environment_variables": {},
   "exception": null,
   "input_path": "__notebook__.ipynb",
   "output_path": "__notebook__.ipynb",
   "parameters": {},
   "start_time": "2022-10-16T17:21:01.896233",
   "version": "2.3.4"
  }
 },
 "nbformat": 4,
 "nbformat_minor": 5
}
